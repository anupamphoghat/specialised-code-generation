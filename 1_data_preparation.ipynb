{
 "cells": [
  {
   "cell_type": "markdown",
   "metadata": {},
   "source": [
    "# Notebook 1: Data Preparation for Fine-Tuning\n",
    "\n",
    "This notebook covers the essential first step: creating a high-quality dataset. We will create a small, synthetic dataset for fine-tuning a model to be a Python Pandas expert. The final output will be a `dataset.jsonl` file, where each line is a JSON object containing a `prompt` and a `response`."
   ]
  },
  {
   "cell_type": "code",
   "execution_count": null,
   "metadata": {},
   "outputs": [],
   "source": [
    "import json\n",
    "import pandas as pd"
   ]
  },
  {
   "cell_type": "markdown",
   "metadata": {},
   "source": [
    "### Step 1: Define the Raw Data\n",
    "\n",
    "In a real-world scenario, you might scrape data from documentation, Stack Overflow, or internal codebases. Here, we'll manually create a few high-quality examples."
   ]
  },
  {
   "cell_type": "code",
   "execution_count": null,
   "metadata": {},
   "outputs": [],
   "source": [
    "raw_data = [\n",
    "    {\n",
    "        \"question\": \"How do I create a new column in a Pandas DataFrame based on a condition?\",\n",
    "        \"answer\": \"You can use `numpy.where` to create a new column conditionally. It's efficient and readable.\\n\\n```python\\nimport pandas as pd\\nimport numpy as np\\n\\ndata = {'name': ['A', 'B', 'C', 'D'], 'score': [85, 92, 76, 88]}\\ndf = pd.DataFrame(data)\\n\\n# Create a 'grade' column: 'Pass' if score >= 80, else 'Fail'\\ndf['grade'] = np.where(df['score'] >= 80, 'Pass', 'Fail')\\nprint(df)\\n```\"\n",
    "    },\n",
    "    {\n",
    "        \"question\": \"What is the best way to merge two DataFrames in Pandas?\",\n",
    "        \"answer\": \"The `pd.merge()` function is the standard and most flexible way to combine DataFrames. You can specify the join type (inner, outer, left, right) and the keys to join on.\\n\\n```python\\nimport pandas as pd\\n\\ndf1 = pd.DataFrame({'key': ['K0', 'K1'], 'A': ['A0', 'A1']})\\ndf2 = pd.DataFrame({'key': ['K0', 'K1'], 'B': ['B0', 'B1']})\\n\\n# Merge on the 'key' column\\nmerged_df = pd.merge(df1, df2, on='key')\\nprint(merged_df)\\n```\"\n",
    "    },\n",
    "    {\n",
    "        \"question\": \"How can I handle missing values in a DataFrame?\",\n",
    "        \"answer\": \"Pandas provides several methods to handle missing values (NaN). The most common are `dropna()` to remove them or `fillna()` to replace them with a specific value.\\n\\n```python\\nimport pandas as pd\\nimport numpy as np\\n\\ndata = {'A': [1, 2, np.nan], 'B': [5, np.nan, np.nan], 'C': [1, 2, 3]}\\ndf = pd.DataFrame(data)\\n\\n# Fill missing values with the mean of the column\\nfilled_df = df.fillna(df.mean())\\nprint('Filled DataFrame:')\\nprint(filled_df)\\n\\n# Drop rows with any missing values\\ndropped_df = df.dropna()\\nprint('\\nDropped DataFrame:')\\nprint(dropped_df)\\n```\"\n",
    "    }\n",
    "]"
   ]
  },
  {
   "cell_type": "markdown",
   "metadata": {},
   "source": [
    "### Step 2: Convert to the Prompt-Response Format\n",
    "\n",
    "We need to structure our raw data into a consistent format that the model can learn from. A simple instruction format works well."
   ]
  },
  {
   "cell_type": "code",
   "execution_count": null,
   "metadata": {},
   "outputs": [],
   "source": [
    "formatted_data = []\n",
    "for item in raw_data:\n",
    "    formatted_data.append({\n",
    "        \"prompt\": f\"You are a Pandas expert. Answer the following question.\\n\\nQuestion: {item['question']}\",\n",
    "        \"response\": item['answer']\n",
    "    })\n",
    "\n",
    "# Display the first formatted item to check\n",
    "print(json.dumps(formatted_data[0], indent=2))"
   ]
  },
  {
   "cell_type": "markdown",
   "metadata": {},
   "source": [
    "### Step 3: Save to a JSONL File\n",
    "\n",
    "Finally, save the formatted data to a `dataset.jsonl` file. The `.jsonl` format (JSON Lines) is efficient for streaming large datasets, as each line is a self-contained JSON object."
   ]
  },
  {
   "cell_type": "code",
   "execution_count": null,
   "metadata": {},
   "outputs": [],
   "source": [
    "output_file = 'dataset.jsonl'\n",
    "\n",
    "with open(output_file, 'w') as f:\n",
    "    for entry in formatted_data:\n",
    "        json.dump(entry, f)\n",
    "        f.write('\\n')\n",
    "\n",
    "print(f\"Dataset successfully created at '{output_file}' with {len(formatted_data)} entries.\")"
   ]
  }
 ],
 "metadata": {
  "kernelspec": {
   "display_name": "Python 3",
   "language": "python",
   "name": "python3"
  },
  "language_info": {
   "codemirror_mode": {
    "name": "ipython",
    "version": 3
   },
   "file_extension": ".py",
   "mimetype": "text/x-python",
   "name": "python",
   "nbconvert_exporter": "python",
   "pygments_lexer": "ipython3",
   "version": "3.9.12"
  }
 },
 "nbformat": 4,
 "nbformat_minor": 4
}
