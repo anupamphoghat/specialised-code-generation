{
 "cells": [
  {
   "cell_type": "markdown",
   "metadata": {},
   "source": [
    "# Notebook 3: Inference with the Fine-Tuned Model\n",
    "\n",
    "Now for the exciting part: using our specialized model. This notebook shows how to load the base Gemma model and apply our trained LoRA adapters to it for inference."
   ]
  },
  {
   "cell_type": "code",
   "execution_count": null,
   "metadata": {},
   "outputs": [],
   "source": [
    "import torch\n",
    "from peft import PeftModel\n",
    "from transformers import AutoModelForCausalLM, AutoTokenizer"
   ]
  },
  {
   "cell_type": "markdown",
   "metadata": {},
   "source": [
    "### Step 1: Load the Base Model and Tokenizer"
   ]
  },
  {
   "cell_type": "code",
   "execution_count": null,
   "metadata": {},
   "outputs": [],
   "source": [
    "base_model_name = \"google/gemma-2b-it\"\n",
    "\n",
    "# Load the base model in 4-bit for efficiency\n",
    "base_model = AutoModelForCausalLM.from_pretrained(\n",
    "    base_model_name,\n",
    "    quantization_config=None, # Load base model without quantization first\n",
    "    device_map=\"auto\",\n",
    "    torch_dtype=torch.bfloat16\n",
    ")\n",
    "\n",
    "tokenizer = AutoTokenizer.from_pretrained(base_model_name)"
   ]
  },
  {
   "cell_type": "markdown",
   "metadata": {},
   "source": [
    "### Step 2: Load and Merge the LoRA Adapters\n",
    "\n",
    "We use the `PeftModel` class to load our saved adapters and apply them to the base model."
   ]
  },
  {
   "cell_type": "code",
   "execution_count": null,
   "metadata": {},
   "outputs": [],
   "source": [
    "adapter_path = \"./gemma-pandas-expert-adapters\"\n",
    "\n",
    "# Load the PEFT model\n",
    "model = PeftModel.from_pretrained(base_model, adapter_path)\n",
    "\n",
    "# Merge the adapters into the base model\n",
    "# This creates a new, standalone specialized model\n",
    "model = model.merge_and_unload()\n",
    "\n",
    "print(\"Adapters merged successfully!\")"
   ]
  },
  {
   "cell_type": "markdown",
   "metadata": {},
   "source": [
    "### Step 3: Test the Specialized Model"
   ]
  },
  {
   "cell_type": "code",
   "execution_count": null,
   "metadata": {},
   "outputs": [],
   "source": [
    "def ask_expert(question: str):\n",
    "    # Format the prompt using the same template as training\n",
    "    prompt = f\"<start_of_turn>user\\nYou are a Pandas expert. Answer the following question.\\n\\nQuestion: {question}<end_of_turn>\\n<start_of_turn>model\\n\"\n",
    "    \n",
    "    # Tokenize the input\n",
    "    inputs = tokenizer(prompt, return_tensors=\"pt\").to(model.device)\n",
    "    \n",
    "    # Generate a response\n",
    "    outputs = model.generate(**inputs, max_new_tokens=256, do_sample=True, temperature=0.7)\n",
    "    \n",
    "    # Decode and print the response\n",
    "    response_text = tokenizer.decode(outputs[0], skip_special_tokens=True)\n",
    "    \n",
    "    # Clean up the output to only show the model's answer\n",
    "    answer = response_text.split(\"<start_of_turn>model\\n\")[1]\n",
    "    print(answer)\n",
    "\n",
    "# Let's test it with a question similar to our training data\n",
    "test_question = \"How do I select rows from a DataFrame using a condition?\"\n",
    "print(f\"--- Asking: {test_question} ---\\n\")\n",
    "ask_expert(test_question)\n",
    "\n",
    "# Test with a slightly different question\n",
    "test_question_2 = \"How do I use `groupby` to get the average score per group in Pandas?\"\n",
    "print(f\"\\n--- Asking: {test_question_2} ---\\n\")\n",
    "ask_expert(test_question_2)"
   ]
  }
 ],
 "metadata": {
  "kernelspec": {
   "display_name": "Python 3",
   "language": "python",
   "name": "python3"
  },
  "language_info": {
   "codemirror_mode": {
    "name": "ipython",
    "version": 3
   },
   "file_extension": ".py",
   "mimetype": "text/x-python",
   "name": "python",
   "nbconvert_exporter": "python",
   "pygments_lexer": "ipython3",
   "version": "3.9.12"
  }
 },
 "nbformat": 4,
 "nbformat_minor": 4
}
